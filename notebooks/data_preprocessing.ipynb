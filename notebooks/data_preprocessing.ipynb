{
 "cells": [
  {
   "cell_type": "markdown",
   "source": [
    "# Data Preprocessing and Generation\n",
    "\n",
    "This notebook shows the data preprocessing and generation\n",
    "\n",
    "Important note: The notebook use pseudo-absolute path and should be launched only once. So If you want to launch it second time, restart the kernel."
   ],
   "metadata": {
    "collapsed": false
   }
  },
  {
   "cell_type": "code",
   "execution_count": null,
   "outputs": [],
   "source": [
    "import pandas as pd\n",
    "import matplotlib.pyplot as plt\n",
    "import torch\n",
    "import numpy as np"
   ],
   "metadata": {
    "collapsed": false
   }
  },
  {
   "cell_type": "code",
   "execution_count": 2,
   "outputs": [],
   "source": [
    "import os\n",
    "\n",
    "# Firstly upcast the path to the src folder\n",
    "os.chdir('..')"
   ],
   "metadata": {
    "collapsed": false,
    "ExecuteTime": {
     "start_time": "2023-10-27T19:53:14.340384Z",
     "end_time": "2023-10-27T19:53:14.342296Z"
    }
   }
  },
  {
   "cell_type": "code",
   "execution_count": null,
   "outputs": [],
   "source": [
    "def manual_seed(seed):\n",
    "    \"\"\"\n",
    "    Function to set the seed value for reproducibility\n",
    "    :param seed: seed value\n",
    "    :return: None\n",
    "    \"\"\"\n",
    "    # PyTorch manual seed\n",
    "    torch.manual_seed(seed)\n",
    "    if torch.cuda.is_available():\n",
    "        torch.cuda.manual_seed(seed)\n",
    "        torch.cuda.manual_seed_all(seed)\n",
    "\n",
    "    # NumPy manual seed\n",
    "    np.random.seed(seed)\n",
    "\n",
    "# Set the seed value\n",
    "seed = 42\n",
    "\n",
    "# Call the manual seeding function\n",
    "manual_seed(seed)"
   ],
   "metadata": {
    "collapsed": false
   }
  },
  {
   "cell_type": "markdown",
   "source": [
    "# Loading the raw data"
   ],
   "metadata": {
    "collapsed": false
   }
  },
  {
   "cell_type": "code",
   "execution_count": 3,
   "metadata": {
    "collapsed": true,
    "ExecuteTime": {
     "start_time": "2023-10-27T19:53:14.344836Z",
     "end_time": "2023-10-27T19:53:15.906040Z"
    }
   },
   "outputs": [
    {
     "data": {
      "text/plain": "                                                reference  \\\n0       If Alkar is flooding her with psychic waste, t...   \n1                               Now you're getting nasty.   \n2                Well, we could spare your life, for one.   \n3               Ah! Monkey, you've got to snap out of it.   \n4                        I've got orders to put her down.   \n...                                                   ...   \n577772  You didn't know that Estelle had stolen some f...   \n577773                    It'il suck the life out of you!   \n577774                   I can't fuckin' take that, bruv.   \n577775  They called me a fucking hero. The truth is I ...   \n577776                               I did not screw him.   \n\n                                              translation  similarity  \\\n0       if Alkar floods her with her mental waste, it ...    0.785171   \n1                             you're becoming disgusting.    0.749687   \n2                           well, we can spare your life.    0.919051   \n3                            monkey, you have to wake up.    0.664333   \n4                              I have orders to kill her.    0.726639   \n...                                                   ...         ...   \n577772  you didn't know that Estelle stole your fish f...    0.870322   \n577773                  you'd be sucked out of your life!    0.722897   \n577774                          I really can't take this.    0.617511   \n577775         they said I was a hero, but I didn't care.    0.679613   \n577776                                 I didn't fuck him.    0.868475   \n\n        lenght_diff   ref_tox   trn_tox  \n0          0.010309  0.014195  0.981983  \n1          0.071429  0.065473  0.999039  \n2          0.268293  0.213313  0.985068  \n3          0.309524  0.053362  0.994215  \n4          0.181818  0.009402  0.999348  \n...             ...       ...       ...  \n577772     0.030769  0.000121  0.949143  \n577773     0.058824  0.996124  0.215794  \n577774     0.212121  0.984538  0.000049  \n577775     0.358209  0.991945  0.000124  \n577776     0.095238  0.009480  0.994174  \n\n[577777 rows x 6 columns]",
      "text/html": "<div>\n<style scoped>\n    .dataframe tbody tr th:only-of-type {\n        vertical-align: middle;\n    }\n\n    .dataframe tbody tr th {\n        vertical-align: top;\n    }\n\n    .dataframe thead th {\n        text-align: right;\n    }\n</style>\n<table border=\"1\" class=\"dataframe\">\n  <thead>\n    <tr style=\"text-align: right;\">\n      <th></th>\n      <th>reference</th>\n      <th>translation</th>\n      <th>similarity</th>\n      <th>lenght_diff</th>\n      <th>ref_tox</th>\n      <th>trn_tox</th>\n    </tr>\n  </thead>\n  <tbody>\n    <tr>\n      <th>0</th>\n      <td>If Alkar is flooding her with psychic waste, t...</td>\n      <td>if Alkar floods her with her mental waste, it ...</td>\n      <td>0.785171</td>\n      <td>0.010309</td>\n      <td>0.014195</td>\n      <td>0.981983</td>\n    </tr>\n    <tr>\n      <th>1</th>\n      <td>Now you're getting nasty.</td>\n      <td>you're becoming disgusting.</td>\n      <td>0.749687</td>\n      <td>0.071429</td>\n      <td>0.065473</td>\n      <td>0.999039</td>\n    </tr>\n    <tr>\n      <th>2</th>\n      <td>Well, we could spare your life, for one.</td>\n      <td>well, we can spare your life.</td>\n      <td>0.919051</td>\n      <td>0.268293</td>\n      <td>0.213313</td>\n      <td>0.985068</td>\n    </tr>\n    <tr>\n      <th>3</th>\n      <td>Ah! Monkey, you've got to snap out of it.</td>\n      <td>monkey, you have to wake up.</td>\n      <td>0.664333</td>\n      <td>0.309524</td>\n      <td>0.053362</td>\n      <td>0.994215</td>\n    </tr>\n    <tr>\n      <th>4</th>\n      <td>I've got orders to put her down.</td>\n      <td>I have orders to kill her.</td>\n      <td>0.726639</td>\n      <td>0.181818</td>\n      <td>0.009402</td>\n      <td>0.999348</td>\n    </tr>\n    <tr>\n      <th>...</th>\n      <td>...</td>\n      <td>...</td>\n      <td>...</td>\n      <td>...</td>\n      <td>...</td>\n      <td>...</td>\n    </tr>\n    <tr>\n      <th>577772</th>\n      <td>You didn't know that Estelle had stolen some f...</td>\n      <td>you didn't know that Estelle stole your fish f...</td>\n      <td>0.870322</td>\n      <td>0.030769</td>\n      <td>0.000121</td>\n      <td>0.949143</td>\n    </tr>\n    <tr>\n      <th>577773</th>\n      <td>It'il suck the life out of you!</td>\n      <td>you'd be sucked out of your life!</td>\n      <td>0.722897</td>\n      <td>0.058824</td>\n      <td>0.996124</td>\n      <td>0.215794</td>\n    </tr>\n    <tr>\n      <th>577774</th>\n      <td>I can't fuckin' take that, bruv.</td>\n      <td>I really can't take this.</td>\n      <td>0.617511</td>\n      <td>0.212121</td>\n      <td>0.984538</td>\n      <td>0.000049</td>\n    </tr>\n    <tr>\n      <th>577775</th>\n      <td>They called me a fucking hero. The truth is I ...</td>\n      <td>they said I was a hero, but I didn't care.</td>\n      <td>0.679613</td>\n      <td>0.358209</td>\n      <td>0.991945</td>\n      <td>0.000124</td>\n    </tr>\n    <tr>\n      <th>577776</th>\n      <td>I did not screw him.</td>\n      <td>I didn't fuck him.</td>\n      <td>0.868475</td>\n      <td>0.095238</td>\n      <td>0.009480</td>\n      <td>0.994174</td>\n    </tr>\n  </tbody>\n</table>\n<p>577777 rows × 6 columns</p>\n</div>"
     },
     "execution_count": 3,
     "metadata": {},
     "output_type": "execute_result"
    }
   ],
   "source": [
    "data_path = \"data/raw/filtered.tsv\"\n",
    "\n",
    "# Load the data\n",
    "df = pd.read_csv(data_path, sep='\\t', index_col=0)\n",
    "df"
   ]
  },
  {
   "cell_type": "markdown",
   "source": [
    "# Clean up"
   ],
   "metadata": {
    "collapsed": false
   }
  },
  {
   "cell_type": "code",
   "execution_count": 4,
   "outputs": [],
   "source": [
    "df['more_toxic'] = df['ref_tox'] >= df['trn_tox']\n",
    "\n",
    "\n",
    "# if more toxic is false, then swap trn_tox and ref_tox and swap reference and translation\n",
    "df.loc[df['more_toxic'] == False, ['ref_tox', 'trn_tox']] = df.loc[df['more_toxic'] == False, ['trn_tox', 'ref_tox']].values\n",
    "df.loc[df['more_toxic'] == False, ['reference', 'translation']] = df.loc[df['more_toxic'] == False, ['translation', 'reference']].values\n"
   ],
   "metadata": {
    "collapsed": false,
    "ExecuteTime": {
     "start_time": "2023-10-27T19:53:15.907548Z",
     "end_time": "2023-10-27T19:53:17.006838Z"
    }
   }
  },
  {
   "cell_type": "code",
   "execution_count": 5,
   "outputs": [
    {
     "data": {
      "text/plain": "                                               toxic_text  \\\n0       If alkar floods her with her mental waste, it ...   \n1                             You're becoming disgusting.   \n2                           Well, we can spare your life.   \n3                            Monkey, you have to wake up.   \n4                              I have orders to kill her.   \n...                                                   ...   \n577772  You didn't know that estelle stole your fish f...   \n577773                    It'il suck the life out of you!   \n577774                   I can't fuckin' take that, bruv.   \n577775  They called me a fucking hero. the truth is i ...   \n577776                                 I didn't fuck him.   \n\n                                            de-toxic_text  init_toxicity  \\\n0       If alkar is flooding her with psychic waste, t...       0.981983   \n1                               Now you're getting nasty.       0.999039   \n2                Well, we could spare your life, for one.       0.985068   \n3               Ah! monkey, you've got to snap out of it.       0.994215   \n4                        I've got orders to put her down.       0.999348   \n...                                                   ...            ...   \n577772  You didn't know that estelle had stolen some f...       0.949143   \n577773                  You'd be sucked out of your life!       0.996124   \n577774                          I really can't take this.       0.984538   \n577775         They said i was a hero, but i didn't care.       0.991945   \n577776                               I did not screw him.       0.994174   \n\n        detox_toxicity  detox_amount  \n0             0.014195      0.967788  \n1             0.065473      0.933567  \n2             0.213313      0.771755  \n3             0.053362      0.940853  \n4             0.009402      0.989946  \n...                ...           ...  \n577772        0.000121      0.949022  \n577773        0.215794      0.780331  \n577774        0.000049      0.984489  \n577775        0.000124      0.991822  \n577776        0.009480      0.984695  \n\n[577777 rows x 5 columns]",
      "text/html": "<div>\n<style scoped>\n    .dataframe tbody tr th:only-of-type {\n        vertical-align: middle;\n    }\n\n    .dataframe tbody tr th {\n        vertical-align: top;\n    }\n\n    .dataframe thead th {\n        text-align: right;\n    }\n</style>\n<table border=\"1\" class=\"dataframe\">\n  <thead>\n    <tr style=\"text-align: right;\">\n      <th></th>\n      <th>toxic_text</th>\n      <th>de-toxic_text</th>\n      <th>init_toxicity</th>\n      <th>detox_toxicity</th>\n      <th>detox_amount</th>\n    </tr>\n  </thead>\n  <tbody>\n    <tr>\n      <th>0</th>\n      <td>If alkar floods her with her mental waste, it ...</td>\n      <td>If alkar is flooding her with psychic waste, t...</td>\n      <td>0.981983</td>\n      <td>0.014195</td>\n      <td>0.967788</td>\n    </tr>\n    <tr>\n      <th>1</th>\n      <td>You're becoming disgusting.</td>\n      <td>Now you're getting nasty.</td>\n      <td>0.999039</td>\n      <td>0.065473</td>\n      <td>0.933567</td>\n    </tr>\n    <tr>\n      <th>2</th>\n      <td>Well, we can spare your life.</td>\n      <td>Well, we could spare your life, for one.</td>\n      <td>0.985068</td>\n      <td>0.213313</td>\n      <td>0.771755</td>\n    </tr>\n    <tr>\n      <th>3</th>\n      <td>Monkey, you have to wake up.</td>\n      <td>Ah! monkey, you've got to snap out of it.</td>\n      <td>0.994215</td>\n      <td>0.053362</td>\n      <td>0.940853</td>\n    </tr>\n    <tr>\n      <th>4</th>\n      <td>I have orders to kill her.</td>\n      <td>I've got orders to put her down.</td>\n      <td>0.999348</td>\n      <td>0.009402</td>\n      <td>0.989946</td>\n    </tr>\n    <tr>\n      <th>...</th>\n      <td>...</td>\n      <td>...</td>\n      <td>...</td>\n      <td>...</td>\n      <td>...</td>\n    </tr>\n    <tr>\n      <th>577772</th>\n      <td>You didn't know that estelle stole your fish f...</td>\n      <td>You didn't know that estelle had stolen some f...</td>\n      <td>0.949143</td>\n      <td>0.000121</td>\n      <td>0.949022</td>\n    </tr>\n    <tr>\n      <th>577773</th>\n      <td>It'il suck the life out of you!</td>\n      <td>You'd be sucked out of your life!</td>\n      <td>0.996124</td>\n      <td>0.215794</td>\n      <td>0.780331</td>\n    </tr>\n    <tr>\n      <th>577774</th>\n      <td>I can't fuckin' take that, bruv.</td>\n      <td>I really can't take this.</td>\n      <td>0.984538</td>\n      <td>0.000049</td>\n      <td>0.984489</td>\n    </tr>\n    <tr>\n      <th>577775</th>\n      <td>They called me a fucking hero. the truth is i ...</td>\n      <td>They said i was a hero, but i didn't care.</td>\n      <td>0.991945</td>\n      <td>0.000124</td>\n      <td>0.991822</td>\n    </tr>\n    <tr>\n      <th>577776</th>\n      <td>I didn't fuck him.</td>\n      <td>I did not screw him.</td>\n      <td>0.994174</td>\n      <td>0.009480</td>\n      <td>0.984695</td>\n    </tr>\n  </tbody>\n</table>\n<p>577777 rows × 5 columns</p>\n</div>"
     },
     "execution_count": 5,
     "metadata": {},
     "output_type": "execute_result"
    }
   ],
   "source": [
    "df['more_toxic'] = df['ref_tox'] >= df['trn_tox']\n",
    "\n",
    "# get the toxicity difference\n",
    "df['detox_amount'] = df['ref_tox'] - df['trn_tox']\n",
    "\n",
    "# rename\n",
    "df = df.rename(columns={'reference': 'toxic_text', 'translation': 'de-toxic_text', 'ref_tox': 'init_toxicity', 'trn_tox': 'detox_toxicity'})\n",
    "\n",
    "# drop the columns we don't need\n",
    "df = df.drop(columns=['more_toxic', 'lenght_diff', 'similarity'])\n",
    "\n",
    "# Start all sentences from the capital letter\n",
    "df['toxic_text'] = df['toxic_text'].str.capitalize()\n",
    "df['de-toxic_text'] = df['de-toxic_text'].str.capitalize()\n",
    "\n",
    "df"
   ],
   "metadata": {
    "collapsed": false,
    "ExecuteTime": {
     "start_time": "2023-10-27T19:53:17.013274Z",
     "end_time": "2023-10-27T19:53:17.886160Z"
    }
   }
  },
  {
   "cell_type": "markdown",
   "source": [
    "We dont need to drop any rows, since the detoxication level is ~50% of the original toxicity level."
   ],
   "metadata": {
    "collapsed": false
   }
  },
  {
   "cell_type": "code",
   "execution_count": 6,
   "outputs": [
    {
     "name": "stdout",
     "output_type": "stream",
     "text": [
      "count    577777.000000\n",
      "mean          0.904659\n",
      "std           0.126501\n",
      "min           0.500002\n",
      "25%           0.870397\n",
      "50%           0.963144\n",
      "75%           0.992266\n",
      "max           0.999681\n",
      "Name: detox_amount, dtype: float64\n"
     ]
    }
   ],
   "source": [
    "print(df['detox_amount'].describe())"
   ],
   "metadata": {
    "collapsed": false,
    "ExecuteTime": {
     "start_time": "2023-10-27T19:53:17.890062Z",
     "end_time": "2023-10-27T19:53:17.914103Z"
    }
   }
  },
  {
   "cell_type": "markdown",
   "source": [
    "# Save and generate the data\n",
    "Now we save the data to a new file. The construction of the gpt2 corpus takes ~2 hours for gtx1660."
   ],
   "metadata": {
    "collapsed": false
   }
  },
  {
   "cell_type": "code",
   "execution_count": 8,
   "outputs": [],
   "source": [
    "# save to data/intermediate\n",
    "df.to_csv('data/interm/filtered_preprocessed.csv')"
   ],
   "metadata": {
    "collapsed": false,
    "ExecuteTime": {
     "start_time": "2023-10-27T19:53:17.944334Z",
     "end_time": "2023-10-27T19:53:21.297603Z"
    }
   }
  },
  {
   "cell_type": "code",
   "execution_count": 9,
   "outputs": [],
   "source": [
    "# Get the device\n",
    "device = torch.device('cuda' if torch.cuda.is_available() else 'cpu')"
   ],
   "metadata": {
    "collapsed": false,
    "ExecuteTime": {
     "start_time": "2023-10-27T19:53:21.298059Z",
     "end_time": "2023-10-27T19:53:22.366766Z"
    }
   }
  },
  {
   "cell_type": "code",
   "execution_count": 10,
   "outputs": [
    {
     "name": "stderr",
     "output_type": "stream",
     "text": [
      "Some weights of the model checkpoint at bert-base-uncased were not used when initializing BertForMaskedLM: ['cls.seq_relationship.weight', 'cls.seq_relationship.bias']\n",
      "- This IS expected if you are initializing BertForMaskedLM from the checkpoint of a model trained on another task or with another architecture (e.g. initializing a BertForSequenceClassification model from a BertForPreTraining model).\n",
      "- This IS NOT expected if you are initializing BertForMaskedLM from the checkpoint of a model that you expect to be exactly identical (initializing a BertForSequenceClassification model from a BertForSequenceClassification model).\n",
      "Generating corpus: 100%|\u001B[32m██████████\u001B[0m| 577777/577777 [1:53:06<00:00, 85.13it/s]\n"
     ]
    },
    {
     "name": "stdout",
     "output_type": "stream",
     "text": [
      "Generating estimator dataset ...\n"
     ]
    }
   ],
   "source": [
    "from src.data.data_preproc import generate_gpt2_corpus, generate_estimator_dataset\n",
    "\n",
    "generate_gpt2_corpus('data/interm/filtered_preprocessed.csv', 'data/interm/gpt2_corpus.txt', estimator_token=False, device=device)\n",
    "\n",
    "generate_estimator_dataset('data/interm/filtered_preprocessed.csv', 'data/interm/estimator_dataset.csv')"
   ],
   "metadata": {
    "collapsed": false,
    "ExecuteTime": {
     "start_time": "2023-10-27T19:53:22.370019Z",
     "end_time": "2023-10-27T21:46:41.957464Z"
    }
   }
  }
 ],
 "metadata": {
  "kernelspec": {
   "display_name": "Python 3",
   "language": "python",
   "name": "python3"
  },
  "language_info": {
   "codemirror_mode": {
    "name": "ipython",
    "version": 2
   },
   "file_extension": ".py",
   "mimetype": "text/x-python",
   "name": "python",
   "nbconvert_exporter": "python",
   "pygments_lexer": "ipython2",
   "version": "2.7.6"
  }
 },
 "nbformat": 4,
 "nbformat_minor": 0
}
