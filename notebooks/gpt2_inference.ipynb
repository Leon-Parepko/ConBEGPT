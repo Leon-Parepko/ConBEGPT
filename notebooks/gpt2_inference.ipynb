{
 "cells": [
  {
   "cell_type": "markdown",
   "source": [
    "# GPT-2 Inference\n",
    "This notebook shows the inference of pretrained gpt-2 model only. The same way as conbert model, fast inference might be done through a wrapper.\n",
    "\n",
    "Important note: The notebook use pseudo-absolute path and should be launched only once. So If you want to launch it second time, restart the kernel."
   ],
   "metadata": {
    "collapsed": false
   }
  },
  {
   "cell_type": "code",
   "execution_count": 1,
   "outputs": [
    {
     "name": "stdout",
     "output_type": "stream",
     "text": [
      "/home/leon/Projects/Programming/Study/Python/ML_Inno/PMLDL/PML_ASS_1\n"
     ]
    }
   ],
   "source": [
    "import os\n",
    "\n",
    "# Upcast the path to the src folder\n",
    "os.chdir('..')\n",
    "print(os.getcwd())"
   ],
   "metadata": {
    "collapsed": false,
    "ExecuteTime": {
     "start_time": "2023-10-30T15:44:08.995247Z",
     "end_time": "2023-10-30T15:44:08.995723Z"
    }
   }
  },
  {
   "cell_type": "code",
   "execution_count": 2,
   "outputs": [],
   "source": [
    "from models.Gpt2.gpt2_wrapper import GPT2\n",
    "\n",
    "model_dir = 'models/Gpt2'\n",
    "\n",
    "# Load model via wrapper class\n",
    "model = GPT2(model_dir)"
   ],
   "metadata": {
    "collapsed": false,
    "ExecuteTime": {
     "start_time": "2023-10-30T15:44:08.995465Z",
     "end_time": "2023-10-30T15:44:13.620508Z"
    }
   }
  },
  {
   "cell_type": "code",
   "execution_count": 3,
   "outputs": [
    {
     "data": {
      "text/plain": "' Oh, my god! '"
     },
     "execution_count": 3,
     "metadata": {},
     "output_type": "execute_result"
    }
   ],
   "source": [
    "sequence = \"<T>Damn it!<NT>. it !<F>\"\n",
    "max_len = 50\n",
    "\n",
    "model.generate(sequence, max_len)"
   ],
   "metadata": {
    "collapsed": false,
    "ExecuteTime": {
     "start_time": "2023-10-30T15:44:13.623102Z",
     "end_time": "2023-10-30T15:44:15.249650Z"
    }
   }
  }
 ],
 "metadata": {
  "kernelspec": {
   "display_name": "Python 3",
   "language": "python",
   "name": "python3"
  },
  "language_info": {
   "codemirror_mode": {
    "name": "ipython",
    "version": 2
   },
   "file_extension": ".py",
   "mimetype": "text/x-python",
   "name": "python",
   "nbconvert_exporter": "python",
   "pygments_lexer": "ipython2",
   "version": "2.7.6"
  }
 },
 "nbformat": 4,
 "nbformat_minor": 0
}
