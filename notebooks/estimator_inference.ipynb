{
 "cells": [
  {
   "cell_type": "code",
   "execution_count": 1,
   "metadata": {
    "collapsed": true,
    "ExecuteTime": {
     "start_time": "2023-11-03T02:48:44.761295Z",
     "end_time": "2023-11-03T02:48:44.761636Z"
    }
   },
   "outputs": [],
   "source": [
    "import os"
   ]
  },
  {
   "cell_type": "code",
   "execution_count": 2,
   "outputs": [],
   "source": [
    "# Firstly upcast the path to the src folder\n",
    "os.chdir('..')"
   ],
   "metadata": {
    "collapsed": false,
    "ExecuteTime": {
     "start_time": "2023-11-03T02:48:44.761407Z",
     "end_time": "2023-11-03T02:48:44.779960Z"
    }
   }
  },
  {
   "cell_type": "code",
   "execution_count": 3,
   "outputs": [
    {
     "name": "stderr",
     "output_type": "stream",
     "text": [
      "[nltk_data] Downloading package punkt to /home/leon/nltk_data...\n",
      "[nltk_data]   Package punkt is already up-to-date!\n",
      "[nltk_data] Downloading package stopwords to /home/leon/nltk_data...\n",
      "[nltk_data]   Package stopwords is already up-to-date!\n"
     ]
    },
    {
     "name": "stdout",
     "output_type": "stream",
     "text": [
      "Loading estimator vocab...\n",
      "Loading estimator model...\n"
     ]
    }
   ],
   "source": [
    "from models.Estimator.estimator_wrapper import Estimator\n",
    "\n",
    "model_dir = 'models/Estimator/'\n",
    "\n",
    "estimator = Estimator(model_dir=model_dir)"
   ],
   "metadata": {
    "collapsed": false,
    "ExecuteTime": {
     "start_time": "2023-11-03T02:48:44.784289Z",
     "end_time": "2023-11-03T02:48:47.862208Z"
    }
   }
  },
  {
   "cell_type": "code",
   "execution_count": 4,
   "outputs": [
    {
     "name": "stdout",
     "output_type": "stream",
     "text": [
      "Toxic text esimation: 1.0\n",
      "Non-toxic text estimation: 0.06994400918483734\n"
     ]
    }
   ],
   "source": [
    "toxic_text = 'You are fucking idiot.'\n",
    "\n",
    "non_toxic_text = 'You are so cute boy.'\n",
    "\n",
    "print(f\"Toxic text esimation: {estimator.inference(toxic_text)}\\nNon-toxic text estimation: {estimator.inference(non_toxic_text)}\")"
   ],
   "metadata": {
    "collapsed": false,
    "ExecuteTime": {
     "start_time": "2023-11-03T02:48:47.865972Z",
     "end_time": "2023-11-03T02:48:47.936784Z"
    }
   }
  }
 ],
 "metadata": {
  "kernelspec": {
   "display_name": "Python 3",
   "language": "python",
   "name": "python3"
  },
  "language_info": {
   "codemirror_mode": {
    "name": "ipython",
    "version": 2
   },
   "file_extension": ".py",
   "mimetype": "text/x-python",
   "name": "python",
   "nbconvert_exporter": "python",
   "pygments_lexer": "ipython2",
   "version": "2.7.6"
  }
 },
 "nbformat": 4,
 "nbformat_minor": 0
}
