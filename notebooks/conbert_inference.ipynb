{
 "cells": [
  {
   "cell_type": "markdown",
   "metadata": {},
   "source": [
    "# ConBERT inference\n",
    "This notebook illustrates the inference of Conditional BERT model only.\n",
    "\n",
    "Important note: The notebook use pseudo-absolute path and should be launched only once. So If you want to launch it second time, restart the kernel."
   ]
  },
  {
   "cell_type": "code",
   "execution_count": 1,
   "metadata": {
    "ExecuteTime": {
     "start_time": "2023-10-28T17:06:23.898550Z",
     "end_time": "2023-10-28T17:06:24.036506Z"
    }
   },
   "outputs": [
    {
     "name": "stdout",
     "output_type": "stream",
     "text": [
      "/home/leon/Projects/Programming/Study/Python/ML_Inno/PMLDL/PML_ASS_1\n"
     ]
    }
   ],
   "source": [
    "import os\n",
    "\n",
    "# Upcast the path to the src folder\n",
    "os.chdir('..')\n",
    "print(os.getcwd())"
   ]
  },
  {
   "cell_type": "code",
   "execution_count": null,
   "outputs": [],
   "source": [
    "import torch\n",
    "import numpy as np\n",
    "\n",
    "def manual_seed(seed):\n",
    "    \"\"\"\n",
    "    Function to set the seed value for reproducibility\n",
    "    :param seed: seed value\n",
    "    :return: None\n",
    "    \"\"\"\n",
    "    # PyTorch manual seed\n",
    "    torch.manual_seed(seed)\n",
    "    if torch.cuda.is_available():\n",
    "        torch.cuda.manual_seed(seed)\n",
    "        torch.cuda.manual_seed_all(seed)\n",
    "\n",
    "    # NumPy manual seed\n",
    "    np.random.seed(seed)\n",
    "\n",
    "# Set the seed value\n",
    "seed = 42\n",
    "\n",
    "# Call the manual seeding function\n",
    "manual_seed(seed)"
   ],
   "metadata": {
    "collapsed": false
   }
  },
  {
   "cell_type": "code",
   "execution_count": 2,
   "metadata": {
    "ExecuteTime": {
     "start_time": "2023-10-28T17:06:23.939071Z",
     "end_time": "2023-10-28T17:06:24.036686Z"
    }
   },
   "outputs": [],
   "source": [
    "os.environ['CUDA_VISIBLE_DEVICES'] = '0'"
   ]
  },
  {
   "cell_type": "code",
   "execution_count": 3,
   "metadata": {
    "ExecuteTime": {
     "start_time": "2023-10-28T17:06:23.939554Z",
     "end_time": "2023-10-28T17:06:24.036856Z"
    }
   },
   "outputs": [],
   "source": [
    "from importlib import reload"
   ]
  },
  {
   "cell_type": "code",
   "execution_count": 4,
   "metadata": {
    "ExecuteTime": {
     "start_time": "2023-10-28T17:06:23.962594Z",
     "end_time": "2023-10-28T17:06:24.783400Z"
    }
   },
   "outputs": [],
   "source": [
    "import models.Conbert.conbert\n",
    "reload(models.Conbert.conbert)\n",
    "from models.Conbert.conbert import CondBertRewriter"
   ]
  },
  {
   "cell_type": "code",
   "execution_count": 5,
   "metadata": {
    "ExecuteTime": {
     "start_time": "2023-10-28T17:06:24.782146Z",
     "end_time": "2023-10-28T17:06:25.177275Z"
    }
   },
   "outputs": [],
   "source": [
    "from transformers import BertTokenizer, BertForMaskedLM\n",
    "import pickle\n",
    "from tqdm.auto import tqdm, trange"
   ]
  },
  {
   "cell_type": "code",
   "execution_count": 6,
   "metadata": {
    "ExecuteTime": {
     "start_time": "2023-10-28T17:06:25.185602Z",
     "end_time": "2023-10-28T17:06:25.188355Z"
    }
   },
   "outputs": [],
   "source": [
    "device = torch.device('cuda' if torch.cuda.is_available() else 'cpu')"
   ]
  },
  {
   "cell_type": "markdown",
   "metadata": {},
   "source": [
    "### Load the model"
   ]
  },
  {
   "cell_type": "code",
   "execution_count": 7,
   "metadata": {
    "ExecuteTime": {
     "start_time": "2023-10-28T17:06:25.189801Z",
     "end_time": "2023-10-28T17:06:26.143613Z"
    }
   },
   "outputs": [],
   "source": [
    "model_name = 'bert-base-uncased'\n",
    "tokenizer = BertTokenizer.from_pretrained(model_name)"
   ]
  },
  {
   "cell_type": "code",
   "execution_count": 8,
   "metadata": {
    "ExecuteTime": {
     "start_time": "2023-10-28T17:06:26.147950Z",
     "end_time": "2023-10-28T17:06:27.581067Z"
    }
   },
   "outputs": [
    {
     "name": "stderr",
     "output_type": "stream",
     "text": [
      "Some weights of the model checkpoint at bert-base-uncased were not used when initializing BertForMaskedLM: ['cls.seq_relationship.weight', 'cls.seq_relationship.bias']\n",
      "- This IS expected if you are initializing BertForMaskedLM from the checkpoint of a model trained on another task or with another architecture (e.g. initializing a BertForSequenceClassification model from a BertForPreTraining model).\n",
      "- This IS NOT expected if you are initializing BertForMaskedLM from the checkpoint of a model that you expect to be exactly identical (initializing a BertForSequenceClassification model from a BertForSequenceClassification model).\n"
     ]
    }
   ],
   "source": [
    "model = BertForMaskedLM.from_pretrained(model_name)"
   ]
  },
  {
   "cell_type": "code",
   "execution_count": 9,
   "metadata": {
    "ExecuteTime": {
     "start_time": "2023-10-28T17:06:27.584510Z",
     "end_time": "2023-10-28T17:06:28.318461Z"
    }
   },
   "outputs": [],
   "source": [
    "model.to(device);"
   ]
  },
  {
   "cell_type": "markdown",
   "metadata": {},
   "source": [
    "#### Load vocabularies for spans detection"
   ]
  },
  {
   "cell_type": "code",
   "execution_count": 10,
   "metadata": {
    "ExecuteTime": {
     "start_time": "2023-10-28T17:06:28.321756Z",
     "end_time": "2023-10-28T17:06:28.323992Z"
    }
   },
   "outputs": [],
   "source": [
    "vocab_root = 'models/Conbert/vocab/'"
   ]
  },
  {
   "cell_type": "code",
   "execution_count": 11,
   "metadata": {
    "ExecuteTime": {
     "start_time": "2023-10-28T17:06:28.328098Z",
     "end_time": "2023-10-28T17:06:28.364854Z"
    }
   },
   "outputs": [],
   "source": [
    "with open(vocab_root + \"negative-words.txt\", \"r\") as f:\n",
    "    s = f.readlines()\n",
    "negative_words = list(map(lambda x: x[:-1], s))\n",
    "with open(vocab_root + \"toxic_words.txt\", \"r\") as f:\n",
    "    ss = f.readlines()\n",
    "negative_words += list(map(lambda x: x[:-1], ss))\n",
    "\n",
    "with open(vocab_root + \"positive-words.txt\", \"r\") as f:\n",
    "    s = f.readlines()\n",
    "positive_words = list(map(lambda x: x[:-1], s))"
   ]
  },
  {
   "cell_type": "code",
   "execution_count": 12,
   "metadata": {
    "ExecuteTime": {
     "start_time": "2023-10-28T17:06:28.358194Z",
     "end_time": "2023-10-28T17:06:28.419475Z"
    }
   },
   "outputs": [],
   "source": [
    "import pickle\n",
    "with open(vocab_root + 'word2coef.pkl', 'rb') as f:\n",
    "    word2coef = pickle.load(f)"
   ]
  },
  {
   "cell_type": "code",
   "execution_count": 13,
   "metadata": {
    "ExecuteTime": {
     "start_time": "2023-10-28T17:06:28.425284Z",
     "end_time": "2023-10-28T17:06:28.465637Z"
    }
   },
   "outputs": [],
   "source": [
    "token_toxicities = []\n",
    "with open(vocab_root + 'token_toxicities.txt', 'r') as f:\n",
    "    for line in f.readlines():\n",
    "        token_toxicities.append(float(line))\n",
    "token_toxicities = np.array(token_toxicities)\n",
    "token_toxicities = np.maximum(0, np.log(1/(1/token_toxicities-1)))   # log odds ratio\n",
    "\n",
    "# discourage meaningless tokens\n",
    "for tok in ['.', ',', '-']:\n",
    "    token_toxicities[tokenizer.encode(tok)][1] = 3\n",
    "\n",
    "for tok in ['you']:\n",
    "    token_toxicities[tokenizer.encode(tok)][1] = 0"
   ]
  },
  {
   "cell_type": "markdown",
   "metadata": {},
   "source": [
    "### Applying the model"
   ]
  },
  {
   "cell_type": "code",
   "execution_count": 14,
   "metadata": {
    "ExecuteTime": {
     "start_time": "2023-10-28T17:06:28.462149Z",
     "end_time": "2023-10-28T17:06:29.252076Z"
    }
   },
   "outputs": [],
   "source": [
    "reload(models.Conbert.conbert)\n",
    "from models.Conbert.conbert import CondBertRewriter\n",
    "\n",
    "editor = CondBertRewriter(\n",
    "    model=model,\n",
    "    tokenizer=tokenizer,\n",
    "    device=device,\n",
    "    neg_words=negative_words,\n",
    "    pos_words=positive_words,\n",
    "    word2coef=word2coef,\n",
    "    token_toxicities=token_toxicities,\n",
    ")"
   ]
  },
  {
   "cell_type": "code",
   "execution_count": 15,
   "metadata": {
    "ExecuteTime": {
     "start_time": "2023-10-28T17:06:29.256753Z",
     "end_time": "2023-10-28T17:06:29.505582Z"
    }
   },
   "outputs": [
    {
     "name": "stdout",
     "output_type": "stream",
     "text": [
      "you are an the !\n"
     ]
    }
   ],
   "source": [
    "print(editor.translate('You are an idiot!', prnt=False))"
   ]
  },
  {
   "cell_type": "markdown",
   "metadata": {},
   "source": [
    "### Multiunit"
   ]
  },
  {
   "cell_type": "code",
   "execution_count": 16,
   "metadata": {
    "ExecuteTime": {
     "start_time": "2023-10-28T17:06:29.509336Z",
     "end_time": "2023-10-28T17:06:30.365086Z"
    }
   },
   "outputs": [],
   "source": [
    "editor = CondBertRewriter(\n",
    "    model=model,\n",
    "    tokenizer=tokenizer,\n",
    "    device=device,\n",
    "    neg_words=negative_words,\n",
    "    pos_words=positive_words,\n",
    "    word2coef=word2coef,\n",
    "    token_toxicities=token_toxicities,\n",
    "    predictor=None,\n",
    ")"
   ]
  },
  {
   "cell_type": "code",
   "execution_count": 17,
   "metadata": {
    "ExecuteTime": {
     "start_time": "2023-10-28T17:06:30.366995Z",
     "end_time": "2023-10-28T17:06:30.371454Z"
    }
   },
   "outputs": [],
   "source": [
    "from models.Conbert.multiword import masked_token_predictor_bert\n",
    "reload(masked_token_predictor_bert)\n",
    "from models.Conbert.multiword.masked_token_predictor_bert import MaskedTokenPredictorBert"
   ]
  },
  {
   "cell_type": "code",
   "execution_count": 18,
   "metadata": {
    "ExecuteTime": {
     "start_time": "2023-10-28T17:06:30.376238Z",
     "end_time": "2023-10-28T17:06:30.730430Z"
    }
   },
   "outputs": [
    {
     "name": "stdout",
     "output_type": "stream",
     "text": [
      "you are an old man !\n"
     ]
    }
   ],
   "source": [
    "predictor = MaskedTokenPredictorBert(model, tokenizer, max_len=250, device=device, label=0, contrast_penalty=0.0)\n",
    "editor.predictor = predictor\n",
    "\n",
    "def adjust_logits(logits, label):\n",
    "    \"\"\"\n",
    "    Function to adjust logits for the Conbert model\n",
    "    :param logits: the logits from the model\n",
    "    :param label: the label\n",
    "    :return: adjusted logits\n",
    "    \"\"\"\n",
    "    return logits - editor.token_toxicities * 3\n",
    "\n",
    "predictor.logits_postprocessor = adjust_logits\n",
    "\n",
    "print(editor.replacement_loop('You are an idiot!', verbose=False))"
   ]
  },
  {
   "cell_type": "code",
   "execution_count": 19,
   "metadata": {
    "ExecuteTime": {
     "start_time": "2023-10-28T17:06:30.731509Z",
     "end_time": "2023-10-28T17:06:31.095294Z"
    }
   },
   "outputs": [
    {
     "name": "stdout",
     "output_type": "stream",
     "text": [
      "you are an old man !\n",
      "CPU times: user 283 ms, sys: 68.8 ms, total: 352 ms\n",
      "Wall time: 350 ms\n"
     ]
    }
   ],
   "source": [
    "%%time\n",
    "print(editor.replacement_loop('You are an idiot!', verbose=False, n_units=1))"
   ]
  },
  {
   "cell_type": "code",
   "execution_count": 20,
   "metadata": {
    "ExecuteTime": {
     "start_time": "2023-10-28T17:06:31.089813Z",
     "end_time": "2023-10-28T17:06:32.183511Z"
    }
   },
   "outputs": [
    {
     "name": "stdout",
     "output_type": "stream",
     "text": [
      "you are an old man !\n",
      "CPU times: user 825 ms, sys: 264 ms, total: 1.09 s\n",
      "Wall time: 1.1 s\n"
     ]
    }
   ],
   "source": [
    "%%time\n",
    "print(editor.replacement_loop('You are an idiot!', verbose=False, n_units=3))"
   ]
  },
  {
   "cell_type": "code",
   "execution_count": 21,
   "metadata": {
    "ExecuteTime": {
     "start_time": "2023-10-28T17:06:32.189880Z",
     "end_time": "2023-10-28T17:06:33.330522Z"
    }
   },
   "outputs": [
    {
     "name": "stdout",
     "output_type": "stream",
     "text": [
      "you are an old man !\n",
      "CPU times: user 962 ms, sys: 181 ms, total: 1.14 s\n",
      "Wall time: 1.14 s\n"
     ]
    }
   ],
   "source": [
    "%%time\n",
    "print(editor.replacement_loop('You are an idiot!', verbose=False, n_units=10))"
   ]
  },
  {
   "cell_type": "markdown",
   "source": [
    "# Simplified inference\n",
    "As a simple way of use of this model you could use the custom wrapper over it."
   ],
   "metadata": {
    "collapsed": false
   }
  },
  {
   "cell_type": "code",
   "execution_count": 22,
   "metadata": {
    "ExecuteTime": {
     "start_time": "2023-10-28T17:06:33.332409Z",
     "end_time": "2023-10-28T17:06:36.160303Z"
    }
   },
   "outputs": [
    {
     "name": "stdout",
     "output_type": "stream",
     "text": [
      "Loading BERT tokenizer...\n"
     ]
    },
    {
     "name": "stderr",
     "output_type": "stream",
     "text": [
      "Some weights of the model checkpoint at bert-base-uncased were not used when initializing BertForMaskedLM: ['cls.seq_relationship.weight', 'cls.seq_relationship.bias']\n",
      "- This IS expected if you are initializing BertForMaskedLM from the checkpoint of a model trained on another task or with another architecture (e.g. initializing a BertForSequenceClassification model from a BertForPreTraining model).\n",
      "- This IS NOT expected if you are initializing BertForMaskedLM from the checkpoint of a model that you expect to be exactly identical (initializing a BertForSequenceClassification model from a BertForSequenceClassification model).\n"
     ]
    },
    {
     "name": "stdout",
     "output_type": "stream",
     "text": [
      "Loading BERT vocabularies...\n"
     ]
    }
   ],
   "source": [
    "from models.Conbert.conbert_wrapper import Conbert\n",
    "\n",
    "conbert_dir = 'models/Conbert'\n",
    "model = Conbert(device, conbert_dir)"
   ]
  },
  {
   "cell_type": "code",
   "execution_count": 23,
   "outputs": [
    {
     "data": {
      "text/plain": "'you are an the !'"
     },
     "execution_count": 23,
     "metadata": {},
     "output_type": "execute_result"
    }
   ],
   "source": [
    "model.detoxicate('You are an idiot!')"
   ],
   "metadata": {
    "collapsed": false,
    "ExecuteTime": {
     "start_time": "2023-10-28T17:06:36.164419Z",
     "end_time": "2023-10-28T17:06:36.179757Z"
    }
   }
  }
 ],
 "metadata": {
  "kernelspec": {
   "display_name": "Python 3 (ipykernel)",
   "language": "python",
   "name": "python3"
  },
  "language_info": {
   "codemirror_mode": {
    "name": "ipython",
    "version": 3
   },
   "file_extension": ".py",
   "mimetype": "text/x-python",
   "name": "python",
   "nbconvert_exporter": "python",
   "pygments_lexer": "ipython3",
   "version": "3.9.6"
  }
 },
 "nbformat": 4,
 "nbformat_minor": 4
}
